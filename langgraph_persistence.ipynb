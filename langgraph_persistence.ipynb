{
 "cells": [
  {
   "cell_type": "markdown",
   "id": "bbe13d39-aed8-45b0-b0d5-d64c750f6757",
   "metadata": {},
   "source": [
    "# Demonstrate langgraph persistence to sqllite DB"
   ]
  },
  {
   "cell_type": "code",
   "execution_count": 1,
   "id": "a4b99e9d-e329-4975-8e73-6d648ebde765",
   "metadata": {},
   "outputs": [],
   "source": [
    "from IPython.display import Image, display\n",
    "from langchain_openai import ChatOpenAI\n",
    "from langgraph.checkpoint.sqlite import SqliteSaver\n",
    "from langgraph.graph import StateGraph\n",
    "from typing import Literal\n",
    "from typing_extensions import TypedDict"
   ]
  },
  {
   "cell_type": "markdown",
   "id": "18e8cd86-d2dc-4504-a7c8-e33db46be4cc",
   "metadata": {},
   "source": [
    "## Define state that we are going to persist"
   ]
  },
  {
   "cell_type": "code",
   "execution_count": 2,
   "id": "3fbad1a0-3168-4066-83ee-9892b0bc30b1",
   "metadata": {},
   "outputs": [],
   "source": [
    "class State(TypedDict):\n",
    "    \"\"\"State containing current count\"\"\"\n",
    "    count: int"
   ]
  },
  {
   "cell_type": "markdown",
   "id": "4fe82550-b3f5-411d-9ea2-59723bdd7bdb",
   "metadata": {},
   "source": [
    "## Define nodes and edges"
   ]
  },
  {
   "cell_type": "code",
   "execution_count": 3,
   "id": "77ebb50b-a3ea-4688-a907-f128a4ea5a70",
   "metadata": {},
   "outputs": [],
   "source": [
    "def inc_count(state):\n",
    "    \"\"\"Increment the count\"\"\"\n",
    "    state['count'] += 1\n",
    "    return state\n",
    "\n",
    "def check_count(state: State) -> Literal[\"ask_user\", \"inc_count\"]:\n",
    "    \"\"\"For every 10th iteration ask user whether to continue\"\"\"\n",
    "    if state['count'] % 10 == 0:\n",
    "        return \"ask_user\"\n",
    "    return \"inc_count\"\n",
    "\n",
    "def ask_user(_):\n",
    "    \"\"\"Ask user node\"\"\"\n",
    "    pass\n",
    "\n",
    "def prompt_user(_: State) -> Literal[\"__end__\", \"inc_count\"]:\n",
    "    \"\"\"Prompt user whether he would like to continue\"\"\"\n",
    "    to_continue = input(\"Do you want to continue?\")\n",
    "    if to_continue == 'y':\n",
    "        return \"inc_count\"\n",
    "    return \"__end__\""
   ]
  },
  {
   "cell_type": "markdown",
   "id": "5f292aff-83d9-4adc-b9dd-598896a49c95",
   "metadata": {},
   "source": [
    "## Define langgraph"
   ]
  },
  {
   "cell_type": "code",
   "execution_count": 4,
   "id": "479e31c0-df70-4963-82ac-2f446beb75fa",
   "metadata": {},
   "outputs": [],
   "source": [
    "graph = StateGraph(State)"
   ]
  },
  {
   "cell_type": "markdown",
   "id": "483d342f-4282-42c6-8028-6db1aaed3f4b",
   "metadata": {},
   "source": [
    "### Define two nodes we will cycle between"
   ]
  },
  {
   "cell_type": "code",
   "execution_count": 5,
   "id": "36084661-5147-4c79-afce-5fb3b38e1754",
   "metadata": {},
   "outputs": [],
   "source": [
    "graph.add_node(\"inc_count\", inc_count)\n",
    "graph.add_node(\"ask_user\", ask_user)"
   ]
  },
  {
   "cell_type": "markdown",
   "id": "f47e13ce-38ef-4304-8b46-8e9d568dedfa",
   "metadata": {},
   "source": [
    "### Set entry point to be inc_count"
   ]
  },
  {
   "cell_type": "code",
   "execution_count": 6,
   "id": "246b45a3-d423-4a59-acf2-4f806e13373c",
   "metadata": {},
   "outputs": [],
   "source": [
    "graph.set_entry_point(\"inc_count\")"
   ]
  },
  {
   "cell_type": "markdown",
   "id": "a993a175-364e-4472-8af2-c2da51fedf53",
   "metadata": {},
   "source": [
    "### Add conditional edges"
   ]
  },
  {
   "cell_type": "code",
   "execution_count": 7,
   "id": "9fc314ee-afeb-4536-b940-3d4ea7254932",
   "metadata": {},
   "outputs": [],
   "source": [
    "graph.add_conditional_edges(\n",
    "    # from node\n",
    "    \"inc_count\",\n",
    "    # function defining edge\n",
    "    check_count\n",
    ")\n",
    "graph.add_conditional_edges(\n",
    "    # from node\n",
    "    \"ask_user\",\n",
    "    # function defining edge\n",
    "    prompt_user\n",
    ")"
   ]
  },
  {
   "cell_type": "markdown",
   "id": "853b107d-bc93-47f1-85ee-9097a0a50557",
   "metadata": {},
   "source": [
    "## Use sqlite database for persistence"
   ]
  },
  {
   "cell_type": "code",
   "execution_count": 8,
   "id": "3da00f21-405e-4fd9-8fe2-2c86703e8457",
   "metadata": {},
   "outputs": [],
   "source": [
    "CONN_STRING=\"/Users/sameerm/AI-Agents/testDB.db\"\n",
    "persist = SqliteSaver.from_conn_string(CONN_STRING)"
   ]
  },
  {
   "cell_type": "markdown",
   "id": "d34160cf-fa33-48b2-b1ab-2eee6f7a62c9",
   "metadata": {},
   "source": [
    "## Compile the graph passing the checkpointer for persistence"
   ]
  },
  {
   "cell_type": "code",
   "execution_count": 9,
   "id": "f5871996-5790-4986-b5e1-3077e4d24c69",
   "metadata": {},
   "outputs": [],
   "source": [
    "app = graph.compile(checkpointer=persist)"
   ]
  },
  {
   "cell_type": "markdown",
   "id": "74ab6556-737b-4896-8616-85220a726e68",
   "metadata": {},
   "source": [
    "## Display the graph"
   ]
  },
  {
   "cell_type": "code",
   "execution_count": 10,
   "id": "f8b9e0e7-77b7-4078-8bb5-dcd17603c210",
   "metadata": {},
   "outputs": [
    {
     "data": {
      "image/jpeg": "[encoded data removed]",
      "text/plain": [
       "<IPython.core.display.Image object>"
      ]
     },
     "metadata": {},
     "output_type": "display_data"
    }
   ],
   "source": [
    "try:\n",
    "    display(Image(app.get_graph().draw_mermaid_png()))\n",
    "except Exception:\n",
    "    # This requires some extra dependencies and is optional\n",
    "    pass"
   ]
  },
  {
   "cell_type": "markdown",
   "id": "870cfbb3-b2ed-4607-9c5f-f1f30a1551fe",
   "metadata": {},
   "source": [
    "## Interct with the graph"
   ]
  },
  {
   "cell_type": "code",
   "execution_count": null,
   "id": "a238f8dc-bd5c-4947-b3ed-ae4051ba9316",
   "metadata": {},
   "outputs": [
    {
     "name": "stdout",
     "output_type": "stream",
     "text": [
      "{'count': 0}\n",
      "{'count': 1}\n",
      "{'count': 2}\n",
      "{'count': 3}\n",
      "{'count': 4}\n",
      "{'count': 5}\n",
      "{'count': 6}\n",
      "{'count': 7}\n",
      "{'count': 8}\n",
      "{'count': 9}\n",
      "{'count': 10}\n"
     ]
    },
    {
     "name": "stdin",
     "output_type": "stream",
     "text": [
      "Do you want to continue? y\n"
     ]
    },
    {
     "name": "stdout",
     "output_type": "stream",
     "text": [
      "{'count': 11}\n",
      "{'count': 12}\n",
      "{'count': 13}\n",
      "{'count': 14}\n",
      "{'count': 15}\n",
      "{'count': 16}\n",
      "{'count': 17}\n",
      "{'count': 18}\n",
      "{'count': 19}\n",
      "{'count': 20}\n"
     ]
    }
   ],
   "source": [
    "config = {\"configurable\": {\"thread_id\": \"2\"}}\n",
    "for count in app.stream({\"count\": 0}, config, stream_mode=\"values\"):\n",
    "    print (count)"
   ]
  },
  {
   "cell_type": "code",
   "execution_count": null,
   "id": "773fcc2a-27cb-401d-9d31-36751bf2de1d",
   "metadata": {},
   "outputs": [],
   "source": [
    "print (app)"
   ]
  },
  {
   "cell_type": "code",
   "execution_count": null,
   "id": "fc3a7313-3418-4c3d-b675-5ca09d94b220",
   "metadata": {},
   "outputs": [],
   "source": [
    "print (count)"
   ]
  },
  {
   "cell_type": "code",
   "execution_count": null,
   "id": "7c32595a-e588-4824-bd3c-c0db592ebdee",
   "metadata": {},
   "outputs": [],
   "source": []
  }
 ],
 "metadata": {
  "kernelspec": {
   "display_name": "Python 3 (ipykernel)",
   "language": "python",
   "name": "python3"
  },
  "language_info": {
   "codemirror_mode": {
    "name": "ipython",
    "version": 3
   },
   "file_extension": ".py",
   "mimetype": "text/x-python",
   "name": "python",
   "nbconvert_exporter": "python",
   "pygments_lexer": "ipython3",
   "version": "3.12.3"
  }
 },
 "nbformat": 4,
 "nbformat_minor": 5
}
