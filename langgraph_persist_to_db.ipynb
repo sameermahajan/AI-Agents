{
 "cells": [
  {
   "cell_type": "markdown",
   "id": "bbe13d39-aed8-45b0-b0d5-d64c750f6757",
   "metadata": {},
   "source": [
    "# Demonstrate langgraph persistence to sqllite DB"
   ]
  },
  {
   "cell_type": "code",
   "execution_count": 1,
   "id": "a4b99e9d-e329-4975-8e73-6d648ebde765",
   "metadata": {},
   "outputs": [],
   "source": [
    "from IPython.display import Image, display\n",
    "from langchain_openai import ChatOpenAI\n",
    "from langgraph.checkpoint.sqlite import SqliteSaver\n",
    "from langgraph.graph import StateGraph\n",
    "from typing import Annotated, Literal\n",
    "from typing_extensions import TypedDict"
   ]
  },
  {
   "cell_type": "markdown",
   "id": "18e8cd86-d2dc-4504-a7c8-e33db46be4cc",
   "metadata": {},
   "source": [
    "## Define state that we are going to persist"
   ]
  },
  {
   "cell_type": "code",
   "execution_count": 2,
   "id": "3fbad1a0-3168-4066-83ee-9892b0bc30b1",
   "metadata": {},
   "outputs": [],
   "source": [
    "class State(TypedDict):\n",
    "    \"\"\"State containing current count\"\"\"\n",
    "    count: Annotated[int, 0]"
   ]
  },
  {
   "cell_type": "markdown",
   "id": "4fe82550-b3f5-411d-9ea2-59723bdd7bdb",
   "metadata": {},
   "source": [
    "## Define nodes and edges"
   ]
  },
  {
   "cell_type": "code",
   "execution_count": 3,
   "id": "77ebb50b-a3ea-4688-a907-f128a4ea5a70",
   "metadata": {},
   "outputs": [],
   "source": [
    "def inc_count(state):\n",
    "    \"\"\"Increment the count\"\"\"\n",
    "    state['count'] += 1\n",
    "    return state\n",
    "\n",
    "def ask_user(_):\n",
    "    \"\"\"Ask user node\"\"\"\n",
    "    pass"
   ]
  },
  {
   "cell_type": "markdown",
   "id": "5f292aff-83d9-4adc-b9dd-598896a49c95",
   "metadata": {},
   "source": [
    "## Define langgraph"
   ]
  },
  {
   "cell_type": "code",
   "execution_count": 4,
   "id": "479e31c0-df70-4963-82ac-2f446beb75fa",
   "metadata": {},
   "outputs": [],
   "source": [
    "graph = StateGraph(State)"
   ]
  },
  {
   "cell_type": "markdown",
   "id": "483d342f-4282-42c6-8028-6db1aaed3f4b",
   "metadata": {},
   "source": [
    "### Define two nodes we will cycle between"
   ]
  },
  {
   "cell_type": "code",
   "execution_count": 5,
   "id": "36084661-5147-4c79-afce-5fb3b38e1754",
   "metadata": {},
   "outputs": [],
   "source": [
    "graph.add_node(\"inc_count\", inc_count)\n",
    "graph.add_node(\"ask_user\", ask_user)\n"
   ]
  },
  {
   "cell_type": "markdown",
   "id": "f47e13ce-38ef-4304-8b46-8e9d568dedfa",
   "metadata": {},
   "source": [
    "### Set entry point to be inc_count"
   ]
  },
  {
   "cell_type": "code",
   "execution_count": 6,
   "id": "246b45a3-d423-4a59-acf2-4f806e13373c",
   "metadata": {},
   "outputs": [],
   "source": [
    "graph.set_entry_point(\"inc_count\")"
   ]
  },
  {
   "cell_type": "markdown",
   "id": "85208237-476f-412f-b822-d9102e8ef999",
   "metadata": {},
   "source": [
    "### Add edges"
   ]
  },
  {
   "cell_type": "code",
   "execution_count": 7,
   "id": "85f0c710-6ef6-4e22-aa78-2cffe844a4ac",
   "metadata": {},
   "outputs": [],
   "source": [
    "graph.add_edge(\"inc_count\", \"ask_user\")\n",
    "graph.add_edge(\"ask_user\", \"inc_count\")"
   ]
  },
  {
   "cell_type": "markdown",
   "id": "853b107d-bc93-47f1-85ee-9097a0a50557",
   "metadata": {},
   "source": [
    "## Use sqlite database for persistence"
   ]
  },
  {
   "cell_type": "code",
   "execution_count": 8,
   "id": "3da00f21-405e-4fd9-8fe2-2c86703e8457",
   "metadata": {},
   "outputs": [],
   "source": [
    "CONN_STRING=\"/Users/sameerm/AI-Agents/testDB.db\"\n",
    "db = SqliteSaver.from_conn_string(CONN_STRING)"
   ]
  },
  {
   "cell_type": "markdown",
   "id": "2f70d168-9076-4712-b936-135c7ae5417b",
   "metadata": {},
   "source": [
    "## Use memory for persistence"
   ]
  },
  {
   "cell_type": "code",
   "execution_count": 9,
   "id": "752d8726-b606-42ff-9231-892f5010d304",
   "metadata": {},
   "outputs": [],
   "source": [
    "memory = SqliteSaver.from_conn_string(\":memory:\")"
   ]
  },
  {
   "cell_type": "markdown",
   "id": "d34160cf-fa33-48b2-b1ab-2eee6f7a62c9",
   "metadata": {},
   "source": [
    "## Compile the graph passing the checkpointer for persistence"
   ]
  },
  {
   "cell_type": "code",
   "execution_count": 10,
   "id": "f5871996-5790-4986-b5e1-3077e4d24c69",
   "metadata": {},
   "outputs": [],
   "source": [
    "app_db = graph.compile(checkpointer=db, interrupt_before=[\"ask_user\"])\n",
    "app_memory = graph.compile(checkpointer=memory, interrupt_before=[\"ask_user\"])"
   ]
  },
  {
   "cell_type": "markdown",
   "id": "74ab6556-737b-4896-8616-85220a726e68",
   "metadata": {},
   "source": [
    "## Display the graph"
   ]
  },
  {
   "cell_type": "code",
   "execution_count": 11,
   "id": "f8b9e0e7-77b7-4078-8bb5-dcd17603c210",
   "metadata": {},
   "outputs": [
    {
     "data": {
      "image/jpeg": "[encoded data removed]",
      "text/plain": [
       "<IPython.core.display.Image object>"
      ]
     },
     "metadata": {},
     "output_type": "display_data"
    }
   ],
   "source": [
    "try:\n",
    "    display(Image(app_db.get_graph().draw_mermaid_png()))\n",
    "except Exception:\n",
    "    # This requires some extra dependencies and is optional\n",
    "    pass"
   ]
  },
  {
   "cell_type": "markdown",
   "id": "870cfbb3-b2ed-4607-9c5f-f1f30a1551fe",
   "metadata": {},
   "source": [
    "## Interct with the graphs"
   ]
  },
  {
   "cell_type": "code",
   "execution_count": 12,
   "id": "a238f8dc-bd5c-4947-b3ed-ae4051ba9316",
   "metadata": {},
   "outputs": [
    {
     "name": "stdout",
     "output_type": "stream",
     "text": [
      "{'count': 0}\n",
      "{'count': 1}\n"
     ]
    }
   ],
   "source": [
    "config = {\"configurable\": {\"thread_id\": \"2\"}}\n",
    "for count in app_db.stream({\"count\": 0}, config, stream_mode=\"values\"):\n",
    "    print (count)"
   ]
  },
  {
   "cell_type": "code",
   "execution_count": 13,
   "id": "84500745-6282-4947-8816-8fa402f32d5e",
   "metadata": {},
   "outputs": [
    {
     "name": "stdout",
     "output_type": "stream",
     "text": [
      "{'count': 0}\n",
      "{'count': 1}\n"
     ]
    }
   ],
   "source": [
    "config = {\"configurable\": {\"thread_id\": \"3\"}}\n",
    "for count in app_memory.stream({\"count\": 0}, config, stream_mode=\"values\"):\n",
    "    print (count)"
   ]
  },
  {
   "cell_type": "code",
   "execution_count": 12,
   "id": "a6ac6160-dea4-4164-be66-65ed664e5f34",
   "metadata": {},
   "outputs": [
    {
     "name": "stdout",
     "output_type": "stream",
     "text": [
      "{'count': 3}\n"
     ]
    }
   ],
   "source": [
    "config = {\"configurable\": {\"thread_id\": \"2\"}}\n",
    "for count in app_db.stream(None, config, stream_mode=\"values\"):\n",
    "    print (count)"
   ]
  },
  {
   "cell_type": "code",
   "execution_count": 13,
   "id": "773fcc2a-27cb-401d-9d31-36751bf2de1d",
   "metadata": {},
   "outputs": [
    {
     "ename": "ValueError",
     "evalue": "No tasks to run in graph.",
     "output_type": "error",
     "traceback": [
      "\u001b[0;31m---------------------------------------------------------------------------\u001b[0m",
      "\u001b[0;31mValueError\u001b[0m                                Traceback (most recent call last)",
      "Cell \u001b[0;32mIn[13], line 2\u001b[0m\n\u001b[1;32m      1\u001b[0m config \u001b[38;5;241m=\u001b[39m {\u001b[38;5;124m\"\u001b[39m\u001b[38;5;124mconfigurable\u001b[39m\u001b[38;5;124m\"\u001b[39m: {\u001b[38;5;124m\"\u001b[39m\u001b[38;5;124mthread_id\u001b[39m\u001b[38;5;124m\"\u001b[39m: \u001b[38;5;124m\"\u001b[39m\u001b[38;5;124m3\u001b[39m\u001b[38;5;124m\"\u001b[39m}}\n\u001b[0;32m----> 2\u001b[0m \u001b[38;5;28;43;01mfor\u001b[39;49;00m\u001b[43m \u001b[49m\u001b[43mcount\u001b[49m\u001b[43m \u001b[49m\u001b[38;5;129;43;01min\u001b[39;49;00m\u001b[43m \u001b[49m\u001b[43mapp_memory\u001b[49m\u001b[38;5;241;43m.\u001b[39;49m\u001b[43mstream\u001b[49m\u001b[43m(\u001b[49m\u001b[38;5;28;43;01mNone\u001b[39;49;00m\u001b[43m,\u001b[49m\u001b[43m \u001b[49m\u001b[43mconfig\u001b[49m\u001b[43m,\u001b[49m\u001b[43m \u001b[49m\u001b[43mstream_mode\u001b[49m\u001b[38;5;241;43m=\u001b[39;49m\u001b[38;5;124;43m\"\u001b[39;49m\u001b[38;5;124;43mvalues\u001b[39;49m\u001b[38;5;124;43m\"\u001b[39;49m\u001b[43m)\u001b[49m\u001b[43m:\u001b[49m\n\u001b[1;32m      3\u001b[0m \u001b[43m    \u001b[49m\u001b[38;5;28;43mprint\u001b[39;49m\u001b[43m \u001b[49m\u001b[43m(\u001b[49m\u001b[43mcount\u001b[49m\u001b[43m)\u001b[49m\n",
      "File \u001b[0;32m~/langgraph_venv/lib/python3.12/site-packages/langgraph/pregel/__init__.py:892\u001b[0m, in \u001b[0;36mPregel.stream\u001b[0;34m(self, input, config, stream_mode, output_keys, input_keys, interrupt_before, interrupt_after, debug)\u001b[0m\n\u001b[1;32m    890\u001b[0m \u001b[38;5;28;01mif\u001b[39;00m \u001b[38;5;129;01mnot\u001b[39;00m next_tasks:\n\u001b[1;32m    891\u001b[0m     \u001b[38;5;28;01mif\u001b[39;00m step \u001b[38;5;241m==\u001b[39m start:\n\u001b[0;32m--> 892\u001b[0m         \u001b[38;5;28;01mraise\u001b[39;00m \u001b[38;5;167;01mValueError\u001b[39;00m(\u001b[38;5;124m\"\u001b[39m\u001b[38;5;124mNo tasks to run in graph.\u001b[39m\u001b[38;5;124m\"\u001b[39m)\n\u001b[1;32m    893\u001b[0m     \u001b[38;5;28;01melse\u001b[39;00m:\n\u001b[1;32m    894\u001b[0m         \u001b[38;5;28;01mbreak\u001b[39;00m\n",
      "\u001b[0;31mValueError\u001b[0m: No tasks to run in graph."
     ]
    }
   ],
   "source": [
    "config = {\"configurable\": {\"thread_id\": \"3\"}}\n",
    "for count in app_memory.stream(None, config, stream_mode=\"values\"):\n",
    "    print (count)"
   ]
  },
  {
   "cell_type": "code",
   "execution_count": null,
   "id": "3c1ba6a5-dc0c-4af0-9116-73a5102cbefc",
   "metadata": {},
   "outputs": [],
   "source": []
  }
 ],
 "metadata": {
  "kernelspec": {
   "display_name": "Python 3 (ipykernel)",
   "language": "python",
   "name": "python3"
  },
  "language_info": {
   "codemirror_mode": {
    "name": "ipython",
    "version": 3
   },
   "file_extension": ".py",
   "mimetype": "text/x-python",
   "name": "python",
   "nbconvert_exporter": "python",
   "pygments_lexer": "ipython3",
   "version": "3.12.3"
  }
 },
 "nbformat": 4,
 "nbformat_minor": 5
}
